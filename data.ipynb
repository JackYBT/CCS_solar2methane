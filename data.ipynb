{
 "cells": [
  {
   "cell_type": "code",
   "execution_count": 9,
   "metadata": {},
   "outputs": [
    {
     "name": "stdout",
     "output_type": "stream",
     "text": [
      "Solar panel power rate per panel:  0.4 kW\n",
      "Solar panel power produced per panel per day:  2.4 kWh\n",
      "Daily hydrogen production per panel:  0.03024 kg\n",
      "Daily methane production per panel:  0.06048 kg\n"
     ]
    }
   ],
   "source": [
    "#Solar Energy section\n",
    "solar_panel_efficiency = 0.25 #Quite optimistic, as of 2024, the average solar panels have an efficiency of around 15-20%\n",
    "#https://css.umich.edu/publications/factsheets/energy/photovoltaic-energy-factsheet#:~:text=PV%20conversion%20efficiency%20is%20the%20percentage%20of,developed%20PV%20cells%20with%20efficiencies%20approaching%2050%.8\n",
    "solar_panel_area = 1.6 #m^2 \n",
    "solar_irradiance = 1000 #W/m^2 \n",
    "solar_num_operating_hours = 6 #hours\n",
    "\n",
    "power_produced_per_panel_kw = solar_panel_area * solar_irradiance * solar_panel_efficiency / 1000\n",
    "daily_solar_panel_power_produced_per_panel_kwh = solar_panel_area * solar_irradiance * solar_panel_efficiency * solar_num_operating_hours / 1000\n",
    "print(\"Solar panel power rate per panel: \", power_produced_per_panel_kw, \"kW\")\n",
    "print(\"Solar panel power produced per panel per day: \", daily_solar_panel_power_produced_per_panel_kwh, \"kWh\")\n",
    "\n",
    "#Hydrogen conversion section\n",
    "electrolyzer_efficiency = 0.7 \n",
    "\"\"\"The industry benchmark for highly efficient electrolysers is 50kWh/kg.The Hysata electrolyser operates at 95% system efficiency (41.5 kWh/kg), delivering a giant leap in performance and cost over incumbent technologies, which typically operate at 75% or less [52.5kWh/kg], the company says.\"\"\"\n",
    "# https://www.rechargenews.com/energy-transition/worlds-cheapest-green-hydrogen-start-up-with-ultra-efficient-electrolyser-to-develop-pilot-factory-after-securing-29m/2-1-1270403\n",
    "\n",
    "kwh_energy_required_per_kg_hydrogen = 50 #39 technically you can use 39, but 50 is industry standard\n",
    "#https://wernerantweiler.ca/blog.php?item=2020-09-28#:~:text=How%20much%20electricity%20is%20needed%20to%20make,commonly%20found%20in%20operation%20for%20this%20process\n",
    "\"A completely efficient electrolysis system would require 39 kWh of electricity to produce 1 kg of hydrogen. However, the devices commonly found in operation for this process\"\n",
    "\n",
    "hydrogen_storage_compression_efficiency = 0.9 #This could be 1 if you directly convert to methane\n",
    "\n",
    "daily_hydrogen_production_per_panel = daily_solar_panel_power_produced_per_panel_kwh * electrolyzer_efficiency * hydrogen_storage_compression_efficiency / kwh_energy_required_per_kg_hydrogen\n",
    "print(\"Daily hydrogen production per panel: \", daily_hydrogen_production_per_panel, \"kg\")\n",
    "\n",
    "#Methane Section\n",
    "daily_methane_production_per_panel = daily_hydrogen_production_per_panel * 2 #4 H2 (8g) + 1 CO2 (44g) -> 1 CH4 (16g) + 2 H2O (36g). You double since 8g to 16g\n",
    "print(\"Daily methane production per panel: \", daily_methane_production_per_panel, \"kg\")"
   ]
  },
  {
   "cell_type": "code",
   "execution_count": 11,
   "metadata": {},
   "outputs": [
    {
     "name": "stdout",
     "output_type": "stream",
     "text": [
      "Total number of panels needed to reach 1MW rate:  2500.0\n",
      "total daily cost for a 1MW farm:  270.68493150684935 USD\n",
      "Daily cost per panel:  0.10827397260273974 USD\n"
     ]
    }
   ],
   "source": [
    "#Economics Section \n",
    "\n",
    "# Cost of energy produced by solar panels.\n",
    "# Assume we have a 1 MW solar farm, with roughly 416 panels from section 1\n",
    "total_number_panels_needede_from_section_1_to_reach_1mw = 1000 / power_produced_per_panel_kw\n",
    "print(\"Total number of panels needed to reach 1MW rate: \", total_number_panels_needede_from_section_1_to_reach_1mw)\n",
    "\n",
    "num_MW = 1\n",
    "cost_of_setting_up_solar_farm = 1000000 #USD\n",
    "solar_panel_lifetime = 25 #years\n",
    "OM_yearly_cost =num_MW * 15000 \n",
    "#https://www.marketwatch.com/guides/solar/solar-farm-cost/#:~:text=Maintenance%20and%20Operational%20Costs&text=According%20to%20NREL%2C%20solar%20energy,maintenance%20costs%20of%20around%20$150%2C000.\n",
    "\n",
    "old_cost_per_electrolyzer = 1000000 #USD, a 1MWh electrolyzer costs around 1 million USD, cited from terraform, and can used it for 50000 hours\n",
    "old_hourly_cost_electrolyzer = old_cost_per_electrolyzer / 50000\n",
    "old_daily_cost_electrolyzer = old_hourly_cost_electrolyzer * solar_num_operating_hours\n",
    "#https://terraformindustries.wordpress.com/2023/08/16/how-to-produce-green-hydrogen-for-1-kg/\n",
    "\n",
    "new_daily_cost_electrolyzer = 0.1 * old_daily_cost_electrolyzer\n",
    "\n",
    "# daily_cost_electrolyzer = new_daily_cost_electrolyzer\n",
    "daily_cost_electrolyzer = old_daily_cost_electrolyzer\n",
    "\n",
    "total_solar_daily_cost = (OM_yearly_cost + (cost_of_setting_up_solar_farm) / solar_panel_lifetime)/365 \n",
    "total_daily_cost = total_solar_daily_cost + daily_cost_electrolyzer\n",
    "print(\"total daily cost for a 1MW farm: \", total_daily_cost, \"USD\")\n",
    "\n",
    "daily_cost_per_panel = total_daily_cost / total_number_panels_needede_from_section_1_to_reach_1mw\n",
    "print(\"Daily cost per panel: \", daily_cost_per_panel, \"USD\")\n"
   ]
  },
  {
   "cell_type": "code",
   "execution_count": null,
   "metadata": {},
   "outputs": [],
   "source": []
  },
  {
   "cell_type": "code",
   "execution_count": 12,
   "metadata": {},
   "outputs": [
    {
     "name": "stdout",
     "output_type": "stream",
     "text": [
      "Daily revenue per panel from methane alone:  0.01512 USD\n",
      "Cost to produce 1MWh (contributed by solar-related costs):  25.114155251141554 USD\n",
      "Cost to produce 1MWh (contributed by electrolyzer-related costs):  20.0 USD\n",
      "**************************************************\n",
      "Cost to produce 1kg hydrogen:  3.580488511995362 USD\n",
      "Tax write off per kg hydrogen:  3 USD\n",
      "Cost to produce 1kg methane:  1.790244255997681 USD\n",
      "Price per kg of methane from 2016 to 2024 was 0.18-0.5 USD\n"
     ]
    }
   ],
   "source": [
    "tax_credit_per_kg_H2 = 3 #USD\n",
    "\n",
    "\n",
    "# daily_tax_credit_per_panel = daily_hydrogen_production_per_panel * tax_credit_per_kg_H2\n",
    "# print(\"Daily tax credit per panel: \", daily_tax_credit_per_panel, \"USD\")\n",
    "selling_price_per_kg_CH4 = 0.25 #USD, this is highly variable and depends on the market. I used the average price between 2016 to 2024\n",
    "\n",
    "daily_revenue_per_panel_from_methane_alone = daily_methane_production_per_panel * selling_price_per_kg_CH4\n",
    "print(\"Daily revenue per panel from methane alone: \", daily_revenue_per_panel_from_methane_alone, \"USD\")\n",
    "\n",
    "cost_to_produce_1MWH_solar = total_solar_daily_cost / solar_num_operating_hours\n",
    "print(\"Cost to produce 1MWh (contributed by solar-related costs): \", cost_to_produce_1MWH_solar, \"USD\")\n",
    "\n",
    "cost_to_produce_1MW_electrolyzer = daily_cost_electrolyzer / solar_num_operating_hours\n",
    "print(\"Cost to produce 1MWh (contributed by electrolyzer-related costs): \", cost_to_produce_1MW_electrolyzer, \"USD\")\n",
    "\n",
    "print(\"*\"*50)\n",
    "cost_to_produce_1kg_hydrogen = daily_cost_per_panel / daily_hydrogen_production_per_panel\n",
    "print(\"Cost to produce 1kg hydrogen: \", cost_to_produce_1kg_hydrogen, \"USD\")\n",
    "print(\"Tax write off per kg hydrogen: \", tax_credit_per_kg_H2, \"USD\")\n",
    "cost_to_produce_1kg_methane = daily_cost_per_panel / daily_methane_production_per_panel\n",
    "print(\"Cost to produce 1kg methane: \", cost_to_produce_1kg_methane, \"USD\")\n",
    "\n",
    "# https://www.eia.gov/dnav/ng/hist/n3035us3m.htm\n",
    "print(\"Price per kg of methane from 2016 to 2024 was 0.18-0.5 USD\")\n"
   ]
  },
  {
   "cell_type": "code",
   "execution_count": null,
   "metadata": {},
   "outputs": [],
   "source": []
  },
  {
   "cell_type": "code",
   "execution_count": null,
   "metadata": {},
   "outputs": [],
   "source": []
  },
  {
   "cell_type": "code",
   "execution_count": null,
   "metadata": {},
   "outputs": [],
   "source": []
  },
  {
   "cell_type": "code",
   "execution_count": null,
   "metadata": {},
   "outputs": [],
   "source": []
  }
 ],
 "metadata": {
  "kernelspec": {
   "display_name": "Python 3",
   "language": "python",
   "name": "python3"
  },
  "language_info": {
   "codemirror_mode": {
    "name": "ipython",
    "version": 3
   },
   "file_extension": ".py",
   "mimetype": "text/x-python",
   "name": "python",
   "nbconvert_exporter": "python",
   "pygments_lexer": "ipython3",
   "version": "3.8.18"
  }
 },
 "nbformat": 4,
 "nbformat_minor": 2
}
